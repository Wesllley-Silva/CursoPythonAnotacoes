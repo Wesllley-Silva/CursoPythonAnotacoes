{
 "cells": [
  {
   "cell_type": "markdown",
   "id": "c340c797",
   "metadata": {},
   "source": [
    "Desafio 1\n",
    "Faça um programa que leia o nome de uma pessoa e mostre uma mensagem de boas-vindas."
   ]
  },
  {
   "cell_type": "code",
   "execution_count": 37,
   "id": "b37f1ad5",
   "metadata": {},
   "outputs": [
    {
     "name": "stdout",
     "output_type": "stream",
     "text": [
      "Seja bem vindo dasd\n"
     ]
    }
   ],
   "source": [
    "nome = input('Ola, qual o seu nome?')\n",
    "print('Seja bem vindo {}'.format(nome))"
   ]
  },
  {
   "cell_type": "markdown",
   "id": "3290ec18",
   "metadata": {},
   "source": [
    "Desafio 2\n",
    "Crie um programa que leia o dia mes e ano de nascimento de uma pessoa e mostre uma mensagem com a data formatada."
   ]
  },
  {
   "cell_type": "code",
   "execution_count": null,
   "id": "2ffe9d2d",
   "metadata": {},
   "outputs": [
    {
     "name": "stdout",
     "output_type": "stream",
     "text": [
      "Data de nascimento completa  17 / 07 / 1992\n"
     ]
    }
   ],
   "source": [
    "dia = input('Qual o dia voce nasceu')\n",
    "mes = input('Qual o mes voce nasceu')\n",
    "ano = input('Qual o ano voce nasceu')\n",
    "print('Data de nascimento completa',dia ,'/',mes ,'/',ano)\n"
   ]
  },
  {
   "cell_type": "markdown",
   "id": "10651958",
   "metadata": {},
   "source": [
    "Desafio 3\n",
    "Crie um programa que leia dois números e mostre a soma entre eles."
   ]
  },
  {
   "cell_type": "code",
   "execution_count": 1,
   "id": "c93d9029",
   "metadata": {},
   "outputs": [
    {
     "name": "stdout",
     "output_type": "stream",
     "text": [
      "A soma entre 4 e 50 é 54\n",
      "A soma entre 4 e 50 vale 54\n"
     ]
    }
   ],
   "source": [
    "num1 = int(input('Digite o primeiro número: '))\n",
    "num2 = int(input('Digite o segundo número: '))\n",
    "soma = num1+num2\n",
    "print(f'A soma entre {num1} e {num2} é {soma}')\n",
    "print('A soma entre {} e {} vale {}'.format(num1,num2,soma))"
   ]
  },
  {
   "cell_type": "markdown",
   "id": "fbe04487",
   "metadata": {},
   "source": [
    "Desafio 4\n",
    "Faça um programa que leia algo pelo teclado e mostre na tela o seu tipo primitivo e todas as informações possíveis sobre ele."
   ]
  },
  {
   "cell_type": "markdown",
   "id": "5c922192",
   "metadata": {},
   "source": [
    "Desafio 5\n",
    "Faça um programa que leia um número Inteiro e mostre na tela o seu sucessor e seu antecessor."
   ]
  },
  {
   "cell_type": "code",
   "execution_count": 16,
   "id": "a8300885",
   "metadata": {},
   "outputs": [
    {
     "name": "stdout",
     "output_type": "stream",
     "text": [
      "O antecessor do numero 2 é 1. E o seu sucessor é 3\n"
     ]
    }
   ],
   "source": [
    "n1 = int(input('Insira o um numero'))\n",
    "ant = n1-1\n",
    "suc = n1+1\n",
    "print('O antecessor do numero {} é {}. E o seu sucessor é {}'.format(n1,ant,suc))\n"
   ]
  },
  {
   "cell_type": "markdown",
   "id": "c3d8a93a",
   "metadata": {},
   "source": [
    "Desafio 6\n",
    "Crie um algoritmo que leia um número e mostre o seu dobro, triplo e raiz quadrada."
   ]
  },
  {
   "cell_type": "code",
   "execution_count": 31,
   "id": "6891c891",
   "metadata": {},
   "outputs": [
    {
     "name": "stdout",
     "output_type": "stream",
     "text": [
      "O dobro do numero 18 é 36. O seu triplo é 54. A raiz é 4.24\n"
     ]
    }
   ],
   "source": [
    "n1 = int(input('Insira um numero'))\n",
    "dobro = n1 * 2\n",
    "triplo = n1 * 3\n",
    "raiz = n1**0.5\n",
    "print('O dobro do numero {} é {}. O seu triplo é {}. A raiz é {:.2f}'.format(n1,dobro, triplo,raiz)) \n"
   ]
  },
  {
   "cell_type": "markdown",
   "id": "53858cae",
   "metadata": {},
   "source": [
    "Desafio 7\n",
    "Desenvolva um programa que leia as duas notas de um aluno, calcule e mostre a sua média."
   ]
  },
  {
   "cell_type": "code",
   "execution_count": 32,
   "id": "8c64c91b",
   "metadata": {},
   "outputs": [
    {
     "name": "stdout",
     "output_type": "stream",
     "text": [
      "A media entre 8.0 e 4.0 é 6.0\n"
     ]
    }
   ],
   "source": [
    "n1 = float(input('insira a primeira nota'))\n",
    "n2 = float(input('insira a segunda nota'))\n",
    "m = (n1+n2)/2\n",
    "print('A media entre {} e {} é {}'.format(n1,n2,m))"
   ]
  },
  {
   "cell_type": "markdown",
   "id": "c3696d05",
   "metadata": {},
   "source": [
    "Desafio 8\n",
    "Escreva um programa que leia um valor em metros e o exiba convertido em centímetros e milímetros."
   ]
  },
  {
   "cell_type": "code",
   "execution_count": 34,
   "id": "e12a87bc",
   "metadata": {},
   "outputs": [
    {
     "name": "stdout",
     "output_type": "stream",
     "text": [
      "Na medida 2.5m,temos: \n",
      " 250.0 centimetros \n",
      " 2500.0 milimetros\n"
     ]
    }
   ],
   "source": [
    "metro = float(input('Insira uma medida em metros'))\n",
    "cm = metro *100\n",
    "mm = metro * 1000\n",
    "print('Na medida {}m,temos: \\n {} centimetros \\n {} milimetros'.format(metro, cm, mm))"
   ]
  },
  {
   "cell_type": "markdown",
   "id": "5ef4adc4",
   "metadata": {},
   "source": [
    "Desafio 9\n",
    "Faça um programa que leia um número Inteiro qualquer e mostre na tela a sua tabuada."
   ]
  },
  {
   "cell_type": "code",
   "execution_count": 64,
   "id": "72024eac",
   "metadata": {},
   "outputs": [
    {
     "name": "stdout",
     "output_type": "stream",
     "text": [
      "A tabuada de 22 é: \n",
      " 22 X 0 = 0 \n",
      " 22 X 1 = 22 \n",
      " 22 X 2 = 44 \n",
      " 22 X 3 = 66 \n",
      " 22 X 4 = 88 \n",
      " 22 X 5 = 110 \n",
      " 22 X 6 = 132 \n",
      " 22 X 7 = 154 \n",
      " 22 X 8 = 176 \n",
      " 22 X 9 = 198 \n",
      " 22 X 10 = 220\n"
     ]
    }
   ],
   "source": [
    "n = int(input('Digite um numero'))\n",
    "zero = n*0\n",
    "um = n*1\n",
    "dois = n*2\n",
    "tres = n*3\n",
    "quatro = n*4\n",
    "cinco = n*5\n",
    "seis = n*6\n",
    "sete = n*7\n",
    "oito = n*8\n",
    "nove = n*9\n",
    "dez = n*10\n",
    "\n",
    "print('A tabuada de {} é: \\n {} X 0 = {} \\n {} X 1 = {} \\n {} X 2 = {} \\n {} X 3 = {} \\n {} X 4 = {} \\n {} X 5 = {} \\n {} X 6 = {} \\n {} X 7 = {} \\n {} X 8 = {} \\n {} X 9 = {} \\n {} X 10 = {}'.format(n,n,zero,n,um,n,dois,n,tres,n,quatro,n,cinco,n,seis,n,sete,n,oito,n,nove,n,dez))"
   ]
  },
  {
   "cell_type": "markdown",
   "id": "ff87ebb4",
   "metadata": {},
   "source": [
    "Dessafio 10\n",
    "Crie um programa que leia quanto dinheiro uma pessoa tem na carteira e mostre quantos dólares ela pode comprar."
   ]
  },
  {
   "cell_type": "code",
   "execution_count": 38,
   "id": "d13bf330",
   "metadata": {},
   "outputs": [
    {
     "name": "stdout",
     "output_type": "stream",
     "text": [
      "Voce tem 38.32 dolares\n"
     ]
    }
   ],
   "source": [
    "tenho = float(input('Quantos reais voce tem?'))\n",
    "d = 3.27\n",
    "dolar = tenho / d\n",
    "print('Voce tem {:.2F} dolares'.format(dolar))"
   ]
  },
  {
   "cell_type": "markdown",
   "id": "b52295ad",
   "metadata": {},
   "source": [
    "Desafio 11\n",
    "Faça um programa que leia a largura e a altura de uma parede em metros, calcule a sua área e a quantidade de tinta necessária para pintá-la, sabendo que cada litro de tinta pinta uma área de 2 metros quadrados."
   ]
  },
  {
   "cell_type": "code",
   "execution_count": 2,
   "id": "d99e7b4f",
   "metadata": {},
   "outputs": [
    {
     "name": "stdout",
     "output_type": "stream",
     "text": [
      "Para pintar essa área de 6.0m², vamos precisar de 3.0 litros de tinta \n"
     ]
    }
   ],
   "source": [
    "l1 = float(input('qual a altura da parede?'))\n",
    "l2 = float(input('qual a largura da parede?'))\n",
    "tinta = (l1 * l2)/2\n",
    "print('Para pintar essa área de {}m², vamos precisar de {} litros de tinta '.format(l1*l2,tinta))"
   ]
  },
  {
   "cell_type": "markdown",
   "id": "2c9165e7",
   "metadata": {},
   "source": [
    "Desafio 12\n",
    "Faça um algoritmo que leia o preço de um produto e mostre seu novo preço, com 5% de desconto."
   ]
  },
  {
   "cell_type": "code",
   "execution_count": 2,
   "id": "bdd77830",
   "metadata": {},
   "outputs": [
    {
     "name": "stdout",
     "output_type": "stream",
     "text": [
      "O preço do produto na liquidação agora esta custando 116.85 \n"
     ]
    }
   ],
   "source": [
    "preco = float(input('Qual o preco do produto?'))\n",
    "print('O preço do produto na liquidação agora esta custando {:.2f} '.format(preco * 0.95))"
   ]
  },
  {
   "cell_type": "markdown",
   "id": "65decac2",
   "metadata": {},
   "source": [
    "Desafio 13\n",
    "Faça um algoritmo que leia o salário de um funcionário e mostre seu novo salário, com 15% de aumento."
   ]
  },
  {
   "cell_type": "code",
   "execution_count": 4,
   "id": "2bca9825",
   "metadata": {},
   "outputs": [
    {
     "name": "stdout",
     "output_type": "stream",
     "text": [
      "O salario novo agora é 4025.00\n"
     ]
    }
   ],
   "source": [
    "sal = float(input('qual o salario?'))\n",
    "print('O salario novo agora é {:.2f}'.format(sal*1.15))"
   ]
  },
  {
   "cell_type": "markdown",
   "id": "bc8ab538",
   "metadata": {},
   "source": [
    "Desafio 14\n",
    "Escreva um programa que converta uma temperatura digitando em graus Celsius e converta para graus Fahrenheit."
   ]
  },
  {
   "cell_type": "code",
   "execution_count": 3,
   "id": "f2f74049",
   "metadata": {},
   "outputs": [
    {
     "name": "stdout",
     "output_type": "stream",
     "text": [
      "40.0 graus celsius convertidos são 104.0 graus fahrenheit\n"
     ]
    }
   ],
   "source": [
    "grau = float(input('Quantos graus Celsius voce quer converter em fahrenheit?'))\n",
    "fah = (grau * 9/5) +32\n",
    "print('{} graus celsius convertidos são {} graus fahrenheit'.format(grau,fah))"
   ]
  },
  {
   "cell_type": "markdown",
   "id": "3938e345",
   "metadata": {},
   "source": [
    "Desafio 15\n",
    "Escreva um programa que pergunte a quantidade de Km percorridos por um carro alugado e a quantidade de dias pelos quais ele foi alugado. Calcule o preço a pagar, sabendo que o carro custa R$60,00 por dia e R$0,15 por Km rodado."
   ]
  },
  {
   "cell_type": "code",
   "execution_count": null,
   "id": "4248fdce",
   "metadata": {},
   "outputs": [
    {
     "name": "stdout",
     "output_type": "stream",
     "text": [
      "O valor que voce deve pagar é 52.5 de diárias + 180 referente aos kms. \n",
      " Totalizando 232.5\n"
     ]
    }
   ],
   "source": [
    "km = float(input('Qual foi a quantidade de km rodado com o veículo? '))\n",
    "dia = int(input('Qual foi a quantidade de dias que o carro ficou alugado? '))\n",
    "print('O valor que voce deve pagar é {} de diárias + {} referente aos kms. \\nTotalizando {}'.format(km * 0.15,60*dia,km * 0.15+60*dia))"
   ]
  },
  {
   "cell_type": "markdown",
   "id": "6312a1b9",
   "metadata": {},
   "source": [
    "Aula 8"
   ]
  },
  {
   "cell_type": "markdown",
   "id": "d07ed67c3b784798",
   "metadata": {},
   "source": [
    "Desafio 16\n",
    " Crie um programa que leia um número Real qualquer pelo teclado e mostre na tela a sua porção Inteira."
   ]
  },
  {
   "cell_type": "code",
   "execution_count": 2,
   "id": "bd93d1675dcc95f",
   "metadata": {},
   "outputs": [
    {
     "name": "stdout",
     "output_type": "stream",
     "text": [
      "O numero 6.25412554785 tem a parte inteira 6\n"
     ]
    }
   ],
   "source": [
    "import math\n",
    "n = float(input('Digite um numero'))\n",
    "print('O numero {} tem a parte inteira {}'.format(n,math.trunc(n)))"
   ]
  },
  {
   "cell_type": "markdown",
   "id": "20e48788645825d6",
   "metadata": {},
   "source": [
    "Desafio 16 Faça um programa que leia o comprimento do cateto oposto e do cateto adjacente de um triângulo retângulo. Calcule e mostre o comprimento da hipotenusa."
   ]
  },
  {
   "cell_type": "markdown",
   "id": "ebfc3616c98bf1ed",
   "metadata": {},
   "source": []
  },
  {
   "cell_type": "code",
   "execution_count": null,
   "id": "3df4db16",
   "metadata": {},
   "outputs": [
    {
     "data": {
      "text/plain": [
       "3.0"
      ]
     },
     "execution_count": 12,
     "metadata": {},
     "output_type": "execute_result"
    }
   ],
   "source": [
    "from math import "
   ]
  },
  {
   "cell_type": "markdown",
   "id": "18bd1b8df2019508",
   "metadata": {},
   "source": [
    "Desafio 18 Faça um programa que leia um ângulo qualquer e mostre na tela o valor do seno, cosseno e tangente desse ângulo."
   ]
  },
  {
   "cell_type": "markdown",
   "id": "8cad6d66d2536d87",
   "metadata": {},
   "source": [
    "Desafio 19\n",
    "Um professor quer sortear um dos seus quatro alunos para apagar o quadro. Faça um programa que ajude ele, lendo o nome dos alunos e escrevendo na tela o nome do escolhido."
   ]
  },
  {
   "cell_type": "markdown",
   "id": "70694eff91aac6e9",
   "metadata": {},
   "source": [
    "Desafio 20\n",
    "O mesmo professor do desafio 019 quer sortear a ordem de apresentação de trabalhos dos alunos. Faça um programa que leia o nome dos quatro alunos e mostre a ordem sorteada."
   ]
  },
  {
   "cell_type": "markdown",
   "id": "1fa6cec2a8805472",
   "metadata": {},
   "source": [
    "Desafio 21\n",
    "Faça um programa em que abra e reproduza o áudio de um arquivo MP3."
   ]
  },
  {
   "cell_type": "markdown",
   "id": "2754e9b9",
   "metadata": {},
   "source": [
    "Aula 9"
   ]
  },
  {
   "cell_type": "markdown",
   "id": "14a256541689ae13",
   "metadata": {},
   "source": [
    "Desafio 22\n",
    "Exercício 022: Crie um programa que leia o nome completo de uma pessoa e mostre:\n"
   ]
  },
  {
   "cell_type": "markdown",
   "id": "1a871d7bdf0f6d31",
   "metadata": {},
   "source": [
    "Desafio 23\n",
    "Faça um programa que leia um número de 0 a 9999 e mostre na tela cada um dos dígitos separados."
   ]
  },
  {
   "cell_type": "markdown",
   "id": "e22402857c20daa2",
   "metadata": {},
   "source": [
    "Desafio 24\n",
    "Crie um programa que leia o nome de uma cidade diga se ela começa ou não com o nome \"SANTO\"."
   ]
  },
  {
   "cell_type": "code",
   "execution_count": null,
   "id": "76e8a0018d15a37a",
   "metadata": {},
   "outputs": [],
   "source": []
  }
 ],
 "metadata": {
  "kernelspec": {
   "display_name": "base",
   "language": "python",
   "name": "python3"
  },
  "language_info": {
   "codemirror_mode": {
    "name": "ipython",
    "version": 3
   },
   "file_extension": ".py",
   "mimetype": "text/x-python",
   "name": "python",
   "nbconvert_exporter": "python",
   "pygments_lexer": "ipython3",
   "version": "3.12.7"
  }
 },
 "nbformat": 4,
 "nbformat_minor": 5
}
