{
 "cells": [
  {
   "cell_type": "markdown",
   "id": "c340c797",
   "metadata": {},
   "source": [
    "Desafio 1\n",
    "Crie um programa qeu leia o nome de uma pessoa e mostre uma mensagem de boas vindas de acordo com o valor digitado."
   ]
  },
  {
   "cell_type": "code",
   "execution_count": 6,
   "id": "b37f1ad5",
   "metadata": {},
   "outputs": [
    {
     "name": "stdout",
     "output_type": "stream",
     "text": [
      "Seja bem vindo  will\n"
     ]
    }
   ],
   "source": [
    "nome = input('Ola, qual o seu nome?')\n",
    "print('Seja bem vindo ', nome)"
   ]
  },
  {
   "cell_type": "markdown",
   "id": "3290ec18",
   "metadata": {},
   "source": [
    "Desafio 2\n",
    "Crie um programa que leia o dia mes e ano de nascimento de uma pessoa e mostre uma mensagem com a data formatada."
   ]
  },
  {
   "cell_type": "code",
   "execution_count": null,
   "id": "2ffe9d2d",
   "metadata": {},
   "outputs": [
    {
     "name": "stdout",
     "output_type": "stream",
     "text": [
      "Data de nascimento completa  17 / 07 / 1992\n"
     ]
    }
   ],
   "source": [
    "dia = input('Qual o dia voce nasceu')\n",
    "mes = input('Qual o mes voce nasceu')\n",
    "ano = input('Qual o ano voce nasceu')\n",
    "print('Data de nascimento completa',dia ,'/',mes ,'/',ano)\n"
   ]
  },
  {
   "cell_type": "markdown",
   "id": "10651958",
   "metadata": {},
   "source": [
    "Desafio 3\n",
    "Crie um programa que leia dois numeros e mostre a soma entre eles"
   ]
  },
  {
   "cell_type": "code",
   "execution_count": 26,
   "id": "c93d9029",
   "metadata": {},
   "outputs": [
    {
     "name": "stdout",
     "output_type": "stream",
     "text": [
      "A soma entre 50 e 68 é 118\n",
      "A soma entre 50 e 68 vale 118\n"
     ]
    }
   ],
   "source": [
    "num1 = int(input('Digite o primeiro número: '))\n",
    "num2 = int(input('Digite o segundo número: '))\n",
    "soma = num1+num2\n",
    "print(f'A soma entre {num1} e {num2} é {soma}')\n",
    "print('A soma entre {} e {} vale {}'.format(num1,num2,soma))"
   ]
  }
 ],
 "metadata": {
  "kernelspec": {
   "display_name": "base",
   "language": "python",
   "name": "python3"
  },
  "language_info": {
   "codemirror_mode": {
    "name": "ipython",
    "version": 3
   },
   "file_extension": ".py",
   "mimetype": "text/x-python",
   "name": "python",
   "nbconvert_exporter": "python",
   "pygments_lexer": "ipython3",
   "version": "3.12.7"
  }
 },
 "nbformat": 4,
 "nbformat_minor": 5
}
