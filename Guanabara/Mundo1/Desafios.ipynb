{
 "cells": [
  {
   "cell_type": "markdown",
   "id": "c340c797",
   "metadata": {},
   "source": [
    "Desafio 1\n",
    "Crie um programa qeu leia o nome de uma pessoa e mostre uma mensagem de boas vindas de acordo com o valor digitado."
   ]
  },
  {
   "cell_type": "code",
   "execution_count": 37,
   "id": "b37f1ad5",
   "metadata": {},
   "outputs": [
    {
     "name": "stdout",
     "output_type": "stream",
     "text": [
      "Seja bem vindo dasd\n"
     ]
    }
   ],
   "source": [
    "nome = input('Ola, qual o seu nome?')\n",
    "print('Seja bem vindo {}'.format(nome))"
   ]
  },
  {
   "cell_type": "markdown",
   "id": "3290ec18",
   "metadata": {},
   "source": [
    "Desafio 2\n",
    "Crie um programa que leia o dia mes e ano de nascimento de uma pessoa e mostre uma mensagem com a data formatada."
   ]
  },
  {
   "cell_type": "code",
   "execution_count": null,
   "id": "2ffe9d2d",
   "metadata": {},
   "outputs": [
    {
     "name": "stdout",
     "output_type": "stream",
     "text": [
      "Data de nascimento completa  17 / 07 / 1992\n"
     ]
    }
   ],
   "source": [
    "dia = input('Qual o dia voce nasceu')\n",
    "mes = input('Qual o mes voce nasceu')\n",
    "ano = input('Qual o ano voce nasceu')\n",
    "print('Data de nascimento completa',dia ,'/',mes ,'/',ano)\n"
   ]
  },
  {
   "cell_type": "markdown",
   "id": "10651958",
   "metadata": {},
   "source": [
    "Desafio 3\n",
    "Crie um programa que leia dois numeros e mostre a soma entre eles"
   ]
  },
  {
   "cell_type": "code",
   "execution_count": 1,
   "id": "c93d9029",
   "metadata": {},
   "outputs": [
    {
     "name": "stdout",
     "output_type": "stream",
     "text": [
      "A soma entre 4 e 50 é 54\n",
      "A soma entre 4 e 50 vale 54\n"
     ]
    }
   ],
   "source": [
    "num1 = int(input('Digite o primeiro número: '))\n",
    "num2 = int(input('Digite o segundo número: '))\n",
    "soma = num1+num2\n",
    "print(f'A soma entre {num1} e {num2} é {soma}')\n",
    "print('A soma entre {} e {} vale {}'.format(num1,num2,soma))"
   ]
  },
  {
   "cell_type": "markdown",
   "id": "5c922192",
   "metadata": {},
   "source": [
    "Desafio 5\n",
    "Crie um programa que leia dois numeros e mostre o antecessor e o sucessor"
   ]
  },
  {
   "cell_type": "code",
   "execution_count": 41,
   "id": "a8300885",
   "metadata": {},
   "outputs": [
    {
     "name": "stdout",
     "output_type": "stream",
     "text": [
      "O antecessor do numero 40 é 39. E o seu sucessor é 41\n"
     ]
    }
   ],
   "source": [
    "n1 = int(input('Insira o um numero'))\n",
    "ant = n1-1\n",
    "suc = n1+1\n",
    "print('O antecessor do numero {} é {}. E o seu sucessor é {}'.format(n1,ant,suc))\n"
   ]
  },
  {
   "cell_type": "markdown",
   "id": "c3d8a93a",
   "metadata": {},
   "source": [
    "Desafio 6\n",
    "Crie um programa que um numero e mostre o seu dobro, triplo e a raz quadrada."
   ]
  },
  {
   "cell_type": "code",
   "execution_count": 46,
   "id": "6891c891",
   "metadata": {},
   "outputs": [
    {
     "name": "stdout",
     "output_type": "stream",
     "text": [
      "O dobro do numero 5 é 10. O seu triplo é 15\n"
     ]
    }
   ],
   "source": [
    "n1 = int(input('Insira um numero'))\n",
    "dobro = n1 * 2\n",
    "triplo = n1 * 3\n",
    "print('O dobro do numero {} é {}. O seu triplo é {}'.format(n1,dobro, triplo)) \n"
   ]
  },
  {
   "cell_type": "markdown",
   "id": "53858cae",
   "metadata": {},
   "source": [
    "Desafio 7\n",
    "Crie um programa que pede dois numeros e mostre a media entre eles."
   ]
  },
  {
   "cell_type": "code",
   "execution_count": 49,
   "id": "8c64c91b",
   "metadata": {},
   "outputs": [
    {
     "name": "stdout",
     "output_type": "stream",
     "text": [
      "A media entre 5.5 e 6.3 é 5.9\n"
     ]
    }
   ],
   "source": [
    "n1 = float(input('insira a primeira nota'))\n",
    "n2 = float(input('insira a segunda nota'))\n",
    "m = (n1+n2)/2\n",
    "print('A media entre {} e {} é {}'.format(n1,n2,m))"
   ]
  },
  {
   "cell_type": "markdown",
   "id": "c3696d05",
   "metadata": {},
   "source": [
    "Desafio 8\n",
    "Crie um programa que pede um valor em metros e converta a medida para centimentros e milimetros"
   ]
  },
  {
   "cell_type": "code",
   "execution_count": 58,
   "id": "e12a87bc",
   "metadata": {},
   "outputs": [
    {
     "name": "stdout",
     "output_type": "stream",
     "text": [
      "Na medida 5.0m,temos: \n",
      " 500.0 centimetros \n",
      " 5000.0 milimetros\n"
     ]
    }
   ],
   "source": [
    "metro = float(input('Insira uma medida em metros'))\n",
    "cm = metro *100\n",
    "mm = metro * 1000\n",
    "print('Na medida {}m,temos: \\n {} centimetros \\n {} milimetros'.format(metro, cm, mm))"
   ]
  },
  {
   "cell_type": "markdown",
   "id": "5ef4adc4",
   "metadata": {},
   "source": [
    "Desafio 9\n",
    "Crie um programa que pede um numero qualquer e faça a sua tabuada"
   ]
  },
  {
   "cell_type": "code",
   "execution_count": 64,
   "id": "72024eac",
   "metadata": {},
   "outputs": [
    {
     "name": "stdout",
     "output_type": "stream",
     "text": [
      "A tabuada de 22 é: \n",
      " 22 X 0 = 0 \n",
      " 22 X 1 = 22 \n",
      " 22 X 2 = 44 \n",
      " 22 X 3 = 66 \n",
      " 22 X 4 = 88 \n",
      " 22 X 5 = 110 \n",
      " 22 X 6 = 132 \n",
      " 22 X 7 = 154 \n",
      " 22 X 8 = 176 \n",
      " 22 X 9 = 198 \n",
      " 22 X 10 = 220\n"
     ]
    }
   ],
   "source": [
    "n = int(input('Digite um numero'))\n",
    "zero = n*0\n",
    "um = n*1\n",
    "dois = n*2\n",
    "tres = n*3\n",
    "quatro = n*4\n",
    "cinco = n*5\n",
    "seis = n*6\n",
    "sete = n*7\n",
    "oito = n*8\n",
    "nove = n*9\n",
    "dez = n*10\n",
    "\n",
    "print('A tabuada de {} é: \\n {} X 0 = {} \\n {} X 1 = {} \\n {} X 2 = {} \\n {} X 3 = {} \\n {} X 4 = {} \\n {} X 5 = {} \\n {} X 6 = {} \\n {} X 7 = {} \\n {} X 8 = {} \\n {} X 9 = {} \\n {} X 10 = {}'.format(n,n,zero,n,um,n,dois,n,tres,n,quatro,n,cinco,n,seis,n,sete,n,oito,n,nove,n,dez))"
   ]
  },
  {
   "cell_type": "markdown",
   "id": "ff87ebb4",
   "metadata": {},
   "source": [
    "Dessafio 10\n",
    "Crie um programa que pergunta quanto dinheiro a pessoa tem e mostre quanto ela tem em dolares"
   ]
  },
  {
   "cell_type": "code",
   "execution_count": 71,
   "id": "d13bf330",
   "metadata": {},
   "outputs": [
    {
     "name": "stdout",
     "output_type": "stream",
     "text": [
      "Voce tem 776.7584097859327 dolares\n"
     ]
    }
   ],
   "source": [
    "tenho = float(input('Quantos reais voce tem?'))\n",
    "d = 3.27\n",
    "dolar = tenho / d\n",
    "print('Voce tem {} dolares'.format(dolar))"
   ]
  },
  {
   "cell_type": "code",
   "execution_count": null,
   "id": "b52295ad",
   "metadata": {},
   "outputs": [],
   "source": []
  }
 ],
 "metadata": {
  "kernelspec": {
   "display_name": "base",
   "language": "python",
   "name": "python3"
  },
  "language_info": {
   "codemirror_mode": {
    "name": "ipython",
    "version": 3
   },
   "file_extension": ".py",
   "mimetype": "text/x-python",
   "name": "python",
   "nbconvert_exporter": "python",
   "pygments_lexer": "ipython3",
   "version": "3.12.7"
  }
 },
 "nbformat": 4,
 "nbformat_minor": 5
}
